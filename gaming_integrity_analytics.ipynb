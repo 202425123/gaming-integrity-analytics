{
 "cells": [
  {
   "cell_type": "markdown",
   "metadata": {
    "slideshow": {
     "slide_type": "slide"
    }
   },
   "source": [
    "# Gaming Integrity Analytics\n",
    "\n",
    "## Author: Ella Vacic\n",
    "\n",
    "---\n",
    "\n",
    "### Overview\n",
    "\n",
    "This project studies the behaviors of players in a massive multiplayer online game, focusing on the dynamics of cheating, specifically how cheaters associate with each other and how interactions with cheaters influence others to adopt similar behavior. The goal is to implement a Python program that simulates alternative scenarios to test these hypotheses, comparing actual player behaviors to randomized outcomes. \n",
    "\n",
    "To complete the task, only basic Python data types and core libraries to ensure mastery of fundamental programming concepts were used, to emphasize the application of basic Python principles. The program was designed with future adaptability in mind."
   ]
  },
  {
   "cell_type": "markdown",
   "metadata": {
    "slideshow": {
     "slide_type": "slide"
    }
   },
   "source": [
    "### Data\n",
    "\n",
    "Data used to design and develop the code and modules is not provided. New data, separated into three datasets, should follow the specific format outlined below to ensure compatibility with the provided modules:\n",
    "\n",
    "1. **Cheater Data**:\n",
    "   - This dataset should contain information about players who have been identified as cheaters.\n",
    "   - **Required fields**:\n",
    "     - Unique identifier for each player \n",
    "     - Date when the player began engaging in cheating behavior.\n",
    "     - Date when the player was banned or penalized due to cheating.\n",
    "\n",
    "2. **Interaction Data**:\n",
    "   - This dataset should track interactions between players during game sessions.\n",
    "   - **Required fields**:\n",
    "     - Unique identifier for each interaction \n",
    "     - Identifier for the player initiating the interaction \n",
    "     - Identifier for the player on the receiving end of the interaction\n",
    "     - Timestamp indicating when the interaction occurred \n",
    "\n",
    "3. **Team Data**:\n",
    "   - This dataset should contain information about the teams players were assigned to in multiplayer game sessions.\n",
    "   - **Required fields**:\n",
    "     - Identifier for each game session \n",
    "     - Identifier for each player in the session \n",
    "     - Identifier for the team the player was part of during the session.\n",
    "\n",
    "Each dataset must be saved in the same directory to allow easy import into the system.\n"
   ]
  },
  {
   "cell_type": "markdown",
   "metadata": {},
   "source": [
    "### Importing code\n"
   ]
  },
  {
   "cell_type": "code",
   "execution_count": 1,
   "metadata": {},
   "outputs": [],
   "source": [
    "# Importing modules\n",
    "import data_import\n",
    "import count\n",
    "import simulate"
   ]
  },
  {
   "cell_type": "markdown",
   "metadata": {},
   "source": [
    "### Cheater collaboration\n",
    "\n",
    "By utilizing data from the Cheater Data and Team Data (for which true file names should replace the placeholders '...file name here' below), the code below estimates the frequency with which cheaters are grouped together on the same team. The output categorizes teams based on the number of cheaters present, ranging from 0 to 4. Additionally, the project includes a simulation where team assignments are randomly shuffled among players. This process is repeated 20 times to estimate the expected distribution of cheaters across teams, with the results providing both the mean and the 95% confidence intervals for these expected counts.\n",
    "\n"
   ]
  },
  {
   "cell_type": "code",
   "execution_count": 2,
   "metadata": {},
   "outputs": [
    {
     "name": "stdout",
     "output_type": "stream",
     "text": [
      "Teams with 0 cheaters: 170782\n",
      "Teams with 1 cheaters: 3199\n",
      "Teams with 2 cheaters: 182\n",
      "Teams with 3 cheaters: 9\n",
      "Teams with 4 cheaters: 2\n",
      "Simulated teams with 0 cheaters: 170609.70 (170607.54, 170611.86)\n",
      "Simulated teams with 1 cheaters: 3530.70 (3526.36, 3535.04)\n",
      "Simulated teams with 2 cheaters: 33.50 (31.30, 35.70)\n",
      "Simulated teams with 3 cheaters: 0.10 (-0.03, 0.23)\n"
     ]
    }
   ],
   "source": [
    "# Load data\n",
    "cheaters_data = data_import.load_cheaters('Cheaters data file name here')\n",
    "teams_data = data_import.load_teams('Teams data file name here') \n",
    "\n",
    "# Count the number of cheaters in each team\n",
    "team_cheater_counts = count.count_cheaters(cheaters_data, teams_data)\n",
    "\n",
    "# Print results\n",
    "for cheater_count, team_count in team_cheater_counts.items():\n",
    "    print(f\"Teams with {cheater_count} cheaters: {team_count}\")\n",
    "\n",
    "# Randomize the number of cheaters in each team across matches\n",
    "shuffled_teams = simulate.shuffle_teams(teams_data, 20)\n",
    "team_simulation_counts = simulate.process_shuffled_teams(cheaters_data, shuffled_teams)\n",
    "\n",
    "# Calculate the mean and confidence intervals for the output of the simulations\n",
    "team_simulation_outputs = simulate.calculate_statistics(team_simulation_counts, 20)\n",
    "\n",
    "# Print the results\n",
    "for cheater_count, (mean, ci_lower, ci_upper) in team_simulation_outputs.items():\n",
    "    print(f\"Simulated teams with {cheater_count} cheaters: {mean:.2f} ({ci_lower:.2f}, {ci_upper:.2f})\")"
   ]
  },
  {
   "cell_type": "markdown",
   "metadata": {},
   "source": [
    "### Cheater interactions\n",
    "\n",
    "The following code uses the Interaction Data and the Cheaters Data to identify players who were killed by an active cheater and later began cheating themselves. The goal is to count how many such cases occur in the dataset. Alternative scenarios are simulated by randomizing the player interactions within the same structure and timing but shuffling the player IDs. Twenty such randomizations are generated to estimate the expected count of players who start cheating after being killed by a cheater, along with a 95% confidence interval for the result."
   ]
  },
  {
   "cell_type": "code",
   "execution_count": 3,
   "metadata": {},
   "outputs": [
    {
     "name": "stdout",
     "output_type": "stream",
     "text": [
      "Count of victims of cheating influenced to become cheaters: 47\n",
      "Simulated count of victims of cheating influenced to become cheaters: 14.60 (13.71, 15.49)\n"
     ]
    }
   ],
   "source": [
    "# Load data\n",
    "kills_data = data_import.load_kills('Insert Interaction Data file name here')\n",
    "\n",
    "# Count the number of cheaters influenced by other cheaters\n",
    "influenced_victims_count = count.count_influenced_victims(cheaters_data, kills_data)\n",
    "\n",
    "# Print the results\n",
    "print(f\"Count of victims of cheating influenced to become cheaters: {influenced_victims_count}\")\n",
    "\n",
    "# Randomize the number of cheaters influenced by other cheaters\n",
    "shuffled_players = simulate.shuffle_players(kills_data, 20)\n",
    "victim_simulation_counts = simulate.process_shuffled_victims(cheaters_data, shuffled_players)\n",
    "\n",
    "# Calculate the mean and confidence interval for the output of the simulations\n",
    "victim_simulation_outputs = simulate.calculate_statistics(victim_simulation_counts, 20)\n",
    "\n",
    "# Print the results\n",
    "print(f\"Simulated count of victims of cheating influenced to become cheaters: {victim_simulation_outputs[0]:.2f} ({victim_simulation_outputs[1]:.2f}, {victim_simulation_outputs[2]:.2f})\")"
   ]
  },
  {
   "cell_type": "markdown",
   "metadata": {},
   "source": [
    "Using the Interaction Data and Cheaters Data, the code below uses relevant modules to identify cases where a player encounters another player exhibiting abnormal in-game behavior that suggests cheating before later engaging in similar behavior. For the purpose of this analysis, three kills have been deemed necessary as obvious enough cheating for other players to notice. The observed count of such cases is then compared against a baseline derived from randomized simulations to estimate the expected frequency of this phenomenon. The results include a statistical confidence interval for the expected count in randomized scenarios."
   ]
  },
  {
   "cell_type": "code",
   "execution_count": 4,
   "metadata": {},
   "outputs": [
    {
     "name": "stdout",
     "output_type": "stream",
     "text": [
      "Count of observers of cheating influenced to become cheaters: 25\n",
      "Simulated count of observers of cheating influenced to become cheaters: 2.25 (1.62, 2.88)\n"
     ]
    }
   ],
   "source": [
    "# Count the number of observers of cheater who were influenced to become cheaters\n",
    "influenced_observers_count = count.count_influenced_observers(cheaters_data, kills_data)\n",
    "\n",
    "# Print the results\n",
    "print(f\"Count of observers of cheating influenced to become cheaters: {influenced_observers_count}\")\n",
    "\n",
    "# Process the shuffled data to get counts\n",
    "observer_simulation_counts = simulate.process_shuffled_observers(cheaters_data, shuffled_players)\n",
    "\n",
    "# Calculate the mean and confidence interval for the output of the simulations\n",
    "observer_simulation_outputs = simulate.calculate_statistics(observer_simulation_counts, 20)\n",
    "\n",
    "# Print the results\n",
    "print(f\"Simulated count of observers of cheating influenced to become cheaters: {observer_simulation_outputs[0]:.2f} ({observer_simulation_outputs[1]:.2f}, {observer_simulation_outputs[2]:.2f})\")"
   ]
  }
 ],
 "metadata": {
  "kernelspec": {
   "display_name": "base",
   "language": "python",
   "name": "python3"
  },
  "language_info": {
   "codemirror_mode": {
    "name": "ipython",
    "version": 3
   },
   "file_extension": ".py",
   "mimetype": "text/x-python",
   "name": "python",
   "nbconvert_exporter": "python",
   "pygments_lexer": "ipython3",
   "version": "3.8.19"
  }
 },
 "nbformat": 4,
 "nbformat_minor": 2
}
